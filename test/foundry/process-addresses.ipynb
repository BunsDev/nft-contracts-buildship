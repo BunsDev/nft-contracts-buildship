{
 "cells": [
  {
   "cell_type": "code",
   "execution_count": 17,
   "metadata": {},
   "outputs": [
    {
     "name": "stdout",
     "output_type": "stream",
     "text": [
      "hello world\n"
     ]
    }
   ],
   "source": [
    "print(\"hello world\")\n"
   ]
  },
  {
   "cell_type": "code",
   "execution_count": 18,
   "metadata": {},
   "outputs": [],
   "source": [
    "csv = \"\"\"\n",
    "0x3e199580a778c0c507904fb2f46ca727103f4ed3\t5785874296982730\n",
    "0x076b623ac432d13c168f52ade8b050dd3a7c1ff3\t5341158238054350\n",
    "0xd62bd8569622fbd2c3bf8dcf5e4236a240254729\t1640984800690620\n",
    "0x076b623ac432d13c168f52ade8b050dd3a7c1ff3\t5166641224722300\n",
    "0x076b623ac432d13c168f52ade8b050dd3a7c1ff3\t4811251923765140\n",
    "0x5d1d735682189ec7f9b2e98202ccac821f95d67d\t6105000000000000\n",
    "0xb6de2f25d47f7246573ee50737f8962f2d34af76\t6151169325041460\n",
    "0x587c2fa9802d26628b54e994b73b7d9a0b072408\t6225301272289680\n",
    "0x70c2678875acd18ab1a41484fdf717e69cec0c8e\t5694621207965180\n",
    "0x587c2fa9802d26628b54e994b73b7d9a0b072408\t6528889153207630\n",
    "0xb9803e6898f7f75e804cd5506b72074a7fb43138\t5823177986549500\n",
    "0x610cc186770ee88675b1728c37689f344e4a4b09\t6091494808368600\n",
    "0x7d021d543334f29dff4fb45ec42bc7194966a40d\t2301108967892790\n",
    "0x91f34a7979e873f54bde6837420d6c7800020b17\t4321668073780590\n",
    "0x91f34a7979e873f54bde6837420d6c7800020b17\t6726213266255530\n",
    "0x91f34a7979e873f54bde6837420d6c7800020b17\t4674728409823240\n",
    "0x650211a2809779e609cae1ef0f864345bfdb903d\t1398606355551060\n",
    "0x24782dba3b99cc65b34a2287943b21c7e86a61b0\t1434544103053840\n",
    "0xfcda077171d1d8a8eccc8873ae9eee47fdfcce44\t5254799701571110\n",
    "0x73f2e04f047931e85b62e4f2652b156199000e14\t1144322012850660\n",
    "0x73f2e04f047931e85b62e4f2652b156199000e14\t1195322170693640\n",
    "\"\"\"\n",
    "\n",
    "\n"
   ]
  },
  {
   "cell_type": "code",
   "execution_count": 19,
   "metadata": {},
   "outputs": [
    {
     "data": {
      "text/plain": [
       "[('0x3e199580a778c0c507904fb2f46ca727103f4ed3', '5785874296982730'),\n",
       " ('0x076b623ac432d13c168f52ade8b050dd3a7c1ff3', '5341158238054350'),\n",
       " ('0xd62bd8569622fbd2c3bf8dcf5e4236a240254729', '1640984800690620'),\n",
       " ('0x076b623ac432d13c168f52ade8b050dd3a7c1ff3', '5166641224722300'),\n",
       " ('0x076b623ac432d13c168f52ade8b050dd3a7c1ff3', '4811251923765140'),\n",
       " ('0x5d1d735682189ec7f9b2e98202ccac821f95d67d', '6105000000000000'),\n",
       " ('0xb6de2f25d47f7246573ee50737f8962f2d34af76', '6151169325041460'),\n",
       " ('0x587c2fa9802d26628b54e994b73b7d9a0b072408', '6225301272289680'),\n",
       " ('0x70c2678875acd18ab1a41484fdf717e69cec0c8e', '5694621207965180'),\n",
       " ('0x587c2fa9802d26628b54e994b73b7d9a0b072408', '6528889153207630'),\n",
       " ('0xb9803e6898f7f75e804cd5506b72074a7fb43138', '5823177986549500'),\n",
       " ('0x610cc186770ee88675b1728c37689f344e4a4b09', '6091494808368600'),\n",
       " ('0x7d021d543334f29dff4fb45ec42bc7194966a40d', '2301108967892790'),\n",
       " ('0x91f34a7979e873f54bde6837420d6c7800020b17', '4321668073780590'),\n",
       " ('0x91f34a7979e873f54bde6837420d6c7800020b17', '6726213266255530'),\n",
       " ('0x91f34a7979e873f54bde6837420d6c7800020b17', '4674728409823240'),\n",
       " ('0x650211a2809779e609cae1ef0f864345bfdb903d', '1398606355551060'),\n",
       " ('0x24782dba3b99cc65b34a2287943b21c7e86a61b0', '1434544103053840'),\n",
       " ('0xfcda077171d1d8a8eccc8873ae9eee47fdfcce44', '5254799701571110'),\n",
       " ('0x73f2e04f047931e85b62e4f2652b156199000e14', '1144322012850660'),\n",
       " ('0x73f2e04f047931e85b62e4f2652b156199000e14', '1195322170693640')]"
      ]
     },
     "execution_count": 19,
     "metadata": {},
     "output_type": "execute_result"
    }
   ],
   "source": [
    "\n",
    "\n",
    "# parse csv on newlines and spaces into a list of tuples\n",
    "# csv\n",
    "\n",
    "# csv = csv.split(\"\\n\")\n",
    "# csv = [x.strip() for x in csv]\n",
    "# csv = [x for x in csv if x != \"\"]\n",
    "\n",
    "# print(\"csv\", csv)\n",
    "\n",
    "records = csv.split(\"\\n\")\n",
    "records = [x.split(\"\\t\") for x in records]\n",
    "records = [x for x in records if len(x) == 2]\n",
    "records = [(x[0], x[1]) for x in records]\n",
    "\n",
    "records\n",
    "\n"
   ]
  },
  {
   "cell_type": "code",
   "execution_count": 20,
   "metadata": {},
   "outputs": [
    {
     "data": {
      "text/plain": [
       "['0x73f2e04f047931e85b62e4f2652b156199000e14',\n",
       " '0x5d1d735682189ec7f9b2e98202ccac821f95d67d',\n",
       " '0x3e199580a778c0c507904fb2f46ca727103f4ed3',\n",
       " '0xb6de2f25d47f7246573ee50737f8962f2d34af76',\n",
       " '0x7d021d543334f29dff4fb45ec42bc7194966a40d',\n",
       " '0x650211a2809779e609cae1ef0f864345bfdb903d',\n",
       " '0x076b623ac432d13c168f52ade8b050dd3a7c1ff3',\n",
       " '0xb9803e6898f7f75e804cd5506b72074a7fb43138',\n",
       " '0xfcda077171d1d8a8eccc8873ae9eee47fdfcce44',\n",
       " '0x610cc186770ee88675b1728c37689f344e4a4b09',\n",
       " '0x91f34a7979e873f54bde6837420d6c7800020b17',\n",
       " '0x24782dba3b99cc65b34a2287943b21c7e86a61b0',\n",
       " '0x70c2678875acd18ab1a41484fdf717e69cec0c8e',\n",
       " '0x587c2fa9802d26628b54e994b73b7d9a0b072408',\n",
       " '0xd62bd8569622fbd2c3bf8dcf5e4236a240254729']"
      ]
     },
     "execution_count": 20,
     "metadata": {},
     "output_type": "execute_result"
    }
   ],
   "source": [
    "# find unique addresses and sum their amounts, but use bignumber math\n",
    "\n",
    "addresses = [x[0] for x in records]\n",
    "\n",
    "addresses = list(set(addresses))\n",
    "\n",
    "addresses\n",
    "\n"
   ]
  },
  {
   "cell_type": "code",
   "execution_count": 21,
   "metadata": {},
   "outputs": [
    {
     "data": {
      "text/plain": [
       "[('0x73f2e04f047931e85b62e4f2652b156199000e14', 2339644183544300),\n",
       " ('0x5d1d735682189ec7f9b2e98202ccac821f95d67d', 6105000000000000),\n",
       " ('0x3e199580a778c0c507904fb2f46ca727103f4ed3', 5785874296982730),\n",
       " ('0xb6de2f25d47f7246573ee50737f8962f2d34af76', 6151169325041460),\n",
       " ('0x7d021d543334f29dff4fb45ec42bc7194966a40d', 2301108967892790),\n",
       " ('0x650211a2809779e609cae1ef0f864345bfdb903d', 1398606355551060),\n",
       " ('0x076b623ac432d13c168f52ade8b050dd3a7c1ff3', 15319051386541790),\n",
       " ('0xb9803e6898f7f75e804cd5506b72074a7fb43138', 5823177986549500),\n",
       " ('0xfcda077171d1d8a8eccc8873ae9eee47fdfcce44', 5254799701571110),\n",
       " ('0x610cc186770ee88675b1728c37689f344e4a4b09', 6091494808368600),\n",
       " ('0x91f34a7979e873f54bde6837420d6c7800020b17', 15722609749859360),\n",
       " ('0x24782dba3b99cc65b34a2287943b21c7e86a61b0', 1434544103053840),\n",
       " ('0x70c2678875acd18ab1a41484fdf717e69cec0c8e', 5694621207965180),\n",
       " ('0x587c2fa9802d26628b54e994b73b7d9a0b072408', 12754190425497310),\n",
       " ('0xd62bd8569622fbd2c3bf8dcf5e4236a240254729', 1640984800690620)]"
      ]
     },
     "execution_count": 21,
     "metadata": {},
     "output_type": "execute_result"
    }
   ],
   "source": [
    "# for each address, sum the amounts\n",
    "\n",
    "totals = []\n",
    "\n",
    "for address in addresses:\n",
    "    total = 0\n",
    "    for record in records:\n",
    "        if record[0] == address:\n",
    "            total += int(record[1])\n",
    "    totals.append((address, total))\n",
    "\n",
    "totals\n"
   ]
  },
  {
   "cell_type": "code",
   "execution_count": 22,
   "metadata": {},
   "outputs": [
    {
     "name": "stdout",
     "output_type": "stream",
     "text": [
      "sum of totals 93816877299109650\n"
     ]
    },
    {
     "data": {
      "text/plain": [
       "15"
      ]
     },
     "execution_count": 22,
     "metadata": {},
     "output_type": "execute_result"
    }
   ],
   "source": [
    "# check that sum of totals is equal to sum of records\n",
    "\n",
    "sum([x[1] for x in totals]) == sum([int(x[1]) for x in records])\n",
    "\n",
    "print(\"sum of totals\", sum([x[1] for x in totals]))\n",
    "\n",
    "len(totals)"
   ]
  },
  {
   "cell_type": "code",
   "execution_count": 23,
   "metadata": {},
   "outputs": [
    {
     "name": "stdout",
     "output_type": "stream",
     "text": [
      "total `93816877299109650`\n",
      "\n",
      "```[0x73f2e04f047931e85b62e4f2652b156199000e14,0x5d1d735682189ec7f9b2e98202ccac821f95d67d,0x3e199580a778c0c507904fb2f46ca727103f4ed3,0xb6de2f25d47f7246573ee50737f8962f2d34af76,0x7d021d543334f29dff4fb45ec42bc7194966a40d,0x650211a2809779e609cae1ef0f864345bfdb903d,0x076b623ac432d13c168f52ade8b050dd3a7c1ff3,0xb9803e6898f7f75e804cd5506b72074a7fb43138,0xfcda077171d1d8a8eccc8873ae9eee47fdfcce44,0x610cc186770ee88675b1728c37689f344e4a4b09,0x91f34a7979e873f54bde6837420d6c7800020b17,0x24782dba3b99cc65b34a2287943b21c7e86a61b0,0x70c2678875acd18ab1a41484fdf717e69cec0c8e,0x587c2fa9802d26628b54e994b73b7d9a0b072408,0xd62bd8569622fbd2c3bf8dcf5e4236a240254729]```\n",
      "\n",
      "```[2339644183544300,6105000000000000,5785874296982730,6151169325041460,2301108967892790,1398606355551060,15319051386541790,5823177986549500,5254799701571110,6091494808368600,15722609749859360,1434544103053840,5694621207965180,12754190425497310,1640984800690620]```\n",
      "\n"
     ]
    }
   ],
   "source": [
    "# print two arrays in a format that can be copy-pasted into etherscan [address1,address2,...] and [amount1,amount2,...]\n",
    "print(\"total `\" + str(sum([x[1] for x in totals])) + \"`\")\n",
    "print(\"\")\n",
    "print(\"```[\" + \",\".join([x[0] for x in totals]) + \"]```\")\n",
    "print(\"\")\n",
    "print(\"```[\" + \",\".join([str(x[1]) for x in totals]) + \"]```\")\n",
    "print(\"\")\n"
   ]
  },
  {
   "cell_type": "code",
   "execution_count": null,
   "metadata": {},
   "outputs": [],
   "source": []
  }
 ],
 "metadata": {
  "kernelspec": {
   "display_name": "Python 3",
   "language": "python",
   "name": "python3"
  },
  "language_info": {
   "codemirror_mode": {
    "name": "ipython",
    "version": 3
   },
   "file_extension": ".py",
   "mimetype": "text/x-python",
   "name": "python",
   "nbconvert_exporter": "python",
   "pygments_lexer": "ipython3",
   "version": "3.11.3"
  },
  "orig_nbformat": 4
 },
 "nbformat": 4,
 "nbformat_minor": 2
}
